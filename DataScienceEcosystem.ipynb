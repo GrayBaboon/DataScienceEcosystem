{
 "cells": [
  {
   "cell_type": "markdown",
   "id": "e9a69ae8-c217-46fd-86bc-425c23f1b3bb",
   "metadata": {},
   "source": [
    "# Data Science Tools and Ecosystem"
   ]
  },
  {
   "cell_type": "markdown",
   "id": "5b1548c3-9c15-49f9-9a3c-86a716b9c78d",
   "metadata": {},
   "source": [
    "## Author\n",
    "Ronen"
   ]
  },
  {
   "cell_type": "markdown",
   "id": "72d44af5-662a-4793-8db8-6b14ea7795fa",
   "metadata": {},
   "source": [
    "In this notebook, Data Science Tools and Ecosystem are summarized."
   ]
  },
  {
   "cell_type": "markdown",
   "id": "da2cf52d-429b-40f4-b223-ba0dcff9dbea",
   "metadata": {},
   "source": [
    "**Objectives:**"
   ]
  },
  {
   "cell_type": "markdown",
   "id": "f84a7ea1-4b48-4f50-ba43-1086fdb0eea2",
   "metadata": {},
   "source": [
    "* List popular languages for Data Science\n",
    "* list of common used libraries\n",
    "* list of Data Science Tools"
   ]
  },
  {
   "cell_type": "markdown",
   "id": "9191fc9f-215b-4ff6-a587-a4bd282c309b",
   "metadata": {},
   "source": [
    "Some of the popular languages that Data Scientists use are:\n",
    "1. Python\n",
    "2. C++\n",
    "3. R\n",
    "4. JAVA\n"
   ]
  },
  {
   "cell_type": "markdown",
   "id": "05745616-0f2d-4418-b294-3356280bc27f",
   "metadata": {},
   "source": [
    "Some of the commonly used libraries used by Data Scientists include:\n",
    "1. Pandas\n",
    "2. Numpy\n",
    "3. Matplotlib\n",
    "4. Seaborn"
   ]
  },
  {
   "cell_type": "markdown",
   "id": "4c7a66c6-d212-47bd-9924-e81e6c43d218",
   "metadata": {},
   "source": [
    "| Data Science Tools         |\n",
    "|----------------------------|\n",
    "| Jupyter Notebook           |\n",
    "| RStudio                    |\n",
    "| Apache Zeppelin            |\n"
   ]
  },
  {
   "cell_type": "markdown",
   "id": "4e413665-ada1-45f1-bd89-317b57081400",
   "metadata": {},
   "source": [
    "### Below are a few examples of evaluating arithmetic expressions in Python."
   ]
  },
  {
   "cell_type": "markdown",
   "id": "c8012bdb-e89f-4b5d-894e-3f6918c9b8ce",
   "metadata": {},
   "source": [
    "This a simple arithmetic expression to mutiply then add integers"
   ]
  },
  {
   "cell_type": "code",
   "execution_count": 1,
   "id": "60ffedab-9052-48e2-aa5c-9a267333dbf9",
   "metadata": {},
   "outputs": [
    {
     "data": {
      "text/plain": [
       "17"
      ]
     },
     "execution_count": 1,
     "metadata": {},
     "output_type": "execute_result"
    }
   ],
   "source": [
    "(3*4)+5"
   ]
  },
  {
   "cell_type": "markdown",
   "id": "9fa9142d-4248-48ff-8c91-08f40b96afb0",
   "metadata": {},
   "source": [
    "This will convert 200 minutes to hours by diving by 60"
   ]
  },
  {
   "cell_type": "code",
   "execution_count": 2,
   "id": "5eb1e2bd-0985-4a80-b42b-2a47a99f8486",
   "metadata": {},
   "outputs": [
    {
     "data": {
      "text/plain": [
       "3.3333333333333335"
      ]
     },
     "execution_count": 2,
     "metadata": {},
     "output_type": "execute_result"
    }
   ],
   "source": [
    "200/60"
   ]
  }
 ],
 "metadata": {
  "kernelspec": {
   "display_name": "Python 3 (ipykernel)",
   "language": "python",
   "name": "python3"
  },
  "language_info": {
   "codemirror_mode": {
    "name": "ipython",
    "version": 3
   },
   "file_extension": ".py",
   "mimetype": "text/x-python",
   "name": "python",
   "nbconvert_exporter": "python",
   "pygments_lexer": "ipython3",
   "version": "3.10.12"
  }
 },
 "nbformat": 4,
 "nbformat_minor": 5
}
